{
 "cells": [
  {
   "attachments": {},
   "cell_type": "markdown",
   "metadata": {},
   "source": [
    "Taylor, R.H., et al., A RESTful API for exchanging materials data in the AFLOWLIB.org consortium. Computational Materials Science, 2014. 93: p. 178-192. https://doi.org/10.1016/j.commatsci.2014.05.014"
   ]
  },
  {
   "attachments": {},
   "cell_type": "markdown",
   "metadata": {},
   "source": [
    "https://www.makeuseof.com/what-is-rest-api/\n",
    "\n",
    "ReST API: Representational State Transfer Application Programing Interface.\n",
    "\n",
    "How does a ReST API work?\n",
    "\n",
    "Accesses data through **URIs** (Uniform Resource Identifiers), a string of characters that identify a specific resources.\n",
    "\n",
    "URL (Uniform resource locator)\n"
   ]
  },
  {
   "cell_type": "code",
   "execution_count": null,
   "metadata": {},
   "outputs": [],
   "source": [
    "# rest api\n",
    "import requests\n",
    "URL = 'https://aflowlib.duke.edu/AFLOWDATA/LIB3_WEB/AgCoMn_pv/T0002.A2BC/'\n",
    "response = requests.get(URL).json()"
   ]
  },
  {
   "cell_type": "code",
   "execution_count": null,
   "metadata": {},
   "outputs": [],
   "source": [
    "# manual\n",
    "import json \n",
    "from urllib.request import urlopen \n",
    "SERVER='http://aflowlib.duke.edu/' # server name\n",
    "PROJECT='AFLOWDATA/LIB3_RAW/' # project name\n",
    "#URL=SERVER+’/’+PROJECT # project-layer\n",
    "#URL=SERVER+’/’+PROJECT+’AlCu_pvMn_pv/’ # set-layer\n",
    "URL=SERVER+PROJECT+'AlCu_pvMn_pv/T0001.A2BC/' # calculation-layer\n",
    "entry=json.loads(urlopen(URL+'?format=json').read().decode()) # load\n",
    "for key in entry: # loop keys\n",
    "    print(\"{}={}\".format (key, entry[key]))"
   ]
  },
  {
   "attachments": {},
   "cell_type": "markdown",
   "metadata": {},
   "source": [
    "Example 1:\n",
    "\n",
    "Generating a free-energy zero-temperature convex hull of OsTc"
   ]
  },
  {
   "cell_type": "code",
   "execution_count": null,
   "metadata": {},
   "outputs": [],
   "source": [
    "\n",
    "from urllib.request import urlopen\n",
    "url0 = 'http://aflowlib.duke.edu/AFLOWDATA/LIB2_RAW/Os_pvTc_pv/'\n",
    "url1 = 'http://aflowlib.duke.edu/AFLOWDATA/LIB2_RAW/Os_pvTc_pv/?aflowlib_entries'\n",
    "entry = urlopen(url1)\n",
    "jfile = entry.read().decode() # download file\n",
    "j = jfile.split(',') # parse \n",
    "j[-1] = 'h3'\n",
    "sto = []\n",
    "ent = []\n",
    "for key in j:\n",
    "    urls = url0 + key + '/' + '?stoichiometry'\n",
    "    # print(urls)\n",
    "    stoich= urlopen(urls).read().decode() # download stoich file\n",
    "    # print(stoich)\n",
    "    sto.append(stoich)\n",
    "    urle = url0 + key + '/' + '?enthalpy_formation_atom'\n",
    "    enthalpy = urlopen(urle).read().decode() # download formation file\n",
    "    ent.append(enthalpy)\n",
    "    # print(enthalpy)"
   ]
  },
  {
   "cell_type": "code",
   "execution_count": null,
   "metadata": {},
   "outputs": [],
   "source": [
    "stoich_data = sto\n",
    "temps = []\n",
    "for items in stoich_data:\n",
    "    items = items.strip()\n",
    "    temps.append(items)\n",
    "\n",
    "enthalpy_data = ent\n",
    "tempe = []\n",
    "for items in enthalpy_data:\n",
    "    items = items.strip()\n",
    "    tempe.append(items)\n",
    "\n",
    "with open('sto.txt', 'w') as fp:\n",
    "    for item in temps:\n",
    "        # write each item on a new line\n",
    "        fp.write(\"%s\\n\" % item)\n",
    "with open('ent.txt', 'w') as fp:\n",
    "    for item in tempe:\n",
    "        # write each item on a new line\n",
    "        fp.write(\"%s\\n\" % item)\n",
    "\n",
    "import pandas as pd\n",
    "read_file1 = pd.read_csv ('sto.txt')\n",
    "read_file1.to_csv ('sto.csv', index=None)\n",
    "read_file = pd.read_csv ('ent.txt')\n",
    "read_file.to_csv ('ent.csv', index=None)\n",
    "\n",
    "path = 'conca.csv'\n",
    "df = pd.read_csv(path, header=None)\n",
    "\n",
    "df = df.drop(df[df.iloc[:,1] > 0].index)\n",
    "import matplotlib.pyplot as plt\n",
    "sto = df.iloc[:,0]\n",
    "ent = df.iloc[:,1]\n",
    "plt.scatter(sto,ent)"
   ]
  },
  {
   "cell_type": "code",
   "execution_count": null,
   "metadata": {},
   "outputs": [],
   "source": [
    "import pandas as pd\n",
    "df = pd.read_csv('conca.csv')\n",
    "df = df.drop(df[df.iloc[:,1] > 0.02].index)\n",
    "df.to_csv('connew.csv',index=None)"
   ]
  },
  {
   "attachments": {},
   "cell_type": "markdown",
   "metadata": {},
   "source": [
    "Example 2:\n",
    "\n",
    "Generating a zero temperature phase-diagram of CoNbSi"
   ]
  },
  {
   "cell_type": "code",
   "execution_count": null,
   "metadata": {},
   "outputs": [],
   "source": [
    "aurl3 = 'http://aflowlib.duke.edu/AFLOWDATA/LIB3_RAW/' # ternary systems\n",
    "aurl2 = 'http://aflowlib.duke.edu/AFLOWDATA/LIB2_RAW/' # binary systems\n",
    "\n",
    "CoNbSi = aurl3 + 'CoNb_svSi/'\n",
    "CoNb = aurl2 + 'CoNb_sv/'\n",
    "NbSi = aurl2 + 'Nb_svSi/'\n",
    "CoSi = aurl2 + 'CoSi/'\n",
    "\n",
    "stoich = '/?stoichiometry/'\n",
    "enthalpy = '?/enthalpy_formation_atom'\n",
    "\n",
    "comp = [CoNbSi, CoNb, NbSi, CoSi]"
   ]
  },
  {
   "cell_type": "code",
   "execution_count": null,
   "metadata": {},
   "outputs": [],
   "source": [
    "from urllib.request import urlopen\n",
    "sto = [[] for _ in range(len(comp))]\n",
    "ent = [[] for _ in range(len(comp))]\n",
    "count = 0\n",
    "for url in comp:\n",
    "    entry = urlopen(url+'?aflowlib_entries')\n",
    "    jfile = entry.read().decode()\n",
    "    j = jfile.split(',')\n",
    "    j[-1] = j[-1].replace('\\n', '')\n",
    "\n",
    "    for key in j:\n",
    "        urls = url + key + '/' + '?stoichiometry'\n",
    "        stoich= urlopen(urls).read().decode()\n",
    "#     # print(stoich)\n",
    "        sto[count].append(stoich)\n",
    "        urle = url+ key + '/' + '?enthalpy_formation_atom'\n",
    "        enthalpy = urlopen(urle).read().decode()\n",
    "        ent[count].append(enthalpy)\n",
    "    count += 1\n",
    "\n",
    "\n",
    "#     # print(enthalpy)"
   ]
  },
  {
   "cell_type": "code",
   "execution_count": null,
   "metadata": {},
   "outputs": [],
   "source": [
    "sto3 = sto\n",
    "ent3 = ent\n",
    "temps = [[] for _ in range(len(sto3))]\n",
    "count = 0\n",
    "for items in sto3:\n",
    "    for item in items:\n",
    "        item = item.strip()\n",
    "        temps[count].append(item)\n",
    "    count += 1\n",
    "\n",
    "tempe = [[] for _ in range(len(ent3))]\n",
    "count = 0\n",
    "for items in ent3:\n",
    "    for item in items:\n",
    "        item = item.strip()\n",
    "        tempe[count].append(item)\n",
    "    count += 1"
   ]
  },
  {
   "cell_type": "code",
   "execution_count": null,
   "metadata": {},
   "outputs": [],
   "source": [
    "import csv\n",
    "from itertools import zip_longest\n",
    "\n",
    "export_data = zip_longest(*temps, fillvalue = '')\n",
    "with open('sto3.csv', 'w', encoding=\"ISO-8859-1\", newline='') as myfile:\n",
    "      wr = csv.writer(myfile)\n",
    "      wr.writerow(('0','1','2','3'))\n",
    "      wr.writerows(export_data)\n",
    "myfile.close()\n",
    "export_data = zip_longest(*tempe, fillvalue = '')\n",
    "with open('ent3.csv', 'w', encoding=\"ISO-8859-1\", newline='') as myfile:\n",
    "      wr = csv.writer(myfile)\n",
    "      wr.writerow(('0','1','2','3'))\n",
    "      wr.writerows(export_data)\n",
    "myfile.close()"
   ]
  },
  {
   "cell_type": "code",
   "execution_count": null,
   "metadata": {},
   "outputs": [],
   "source": [
    "dfs = pd.read_csv('sto3.csv')\n",
    "for i in dfs.columns:\n",
    "    dfs = pd.concat([dfs, dfs[i].str.split(',', expand=True)], axis=1)\n",
    "dfs = dfs.iloc[:, 4:]\n",
    "dfs.to_csv('sto3.csv')\n",
    "# dfe = pd.read_csv('ent3.csv')\n"
   ]
  },
  {
   "attachments": {},
   "cell_type": "markdown",
   "metadata": {},
   "source": [
    "How to plot ternary Graph with Origin:\n",
    "\n",
    "https://www.youtube.com/watch?v=fMWjoM9w9t4&ab_channel=StatgraphicsTechnologies%2CInc\n",
    "\n",
    "\n",
    "https://www.originlab.com/fileExchange/details.aspx?fid=777"
   ]
  }
 ],
 "metadata": {
  "language_info": {
   "name": "python"
  },
  "orig_nbformat": 4
 },
 "nbformat": 4,
 "nbformat_minor": 2
}
